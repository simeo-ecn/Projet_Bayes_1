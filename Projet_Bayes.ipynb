{
 "cells": [
  {
   "cell_type": "markdown",
   "id": "6be71c91",
   "metadata": {},
   "source": [
    "PERRET / MORI / DUPONT / POTIRON\n",
    "# Projet Bayes: "
   ]
  },
  {
   "cell_type": "code",
   "execution_count": 2,
   "id": "4ffebfe8",
   "metadata": {},
   "outputs": [],
   "source": [
    "#Bibliothèques\n",
    "import numpy as np\n",
    "import numpy.random as rnd\n",
    "import scipy as sp\n",
    "import matplotlib.pyplot as plt"
   ]
  },
  {
   "cell_type": "code",
   "execution_count": 3,
   "id": "d1e8cc91",
   "metadata": {},
   "outputs": [],
   "source": [
    "#Import des données\n",
    "N = 12\n",
    "T = np.array([11, 11, 17, 22, 9, 6, 5, 14, 9, 7, 22, 51])\n",
    "X = np.array([6, 9, 17, 22, 7, 5, 5, 14, 9, 7, 9, 51])\n",
    "Y = np.array([5, 2, 0, 0, 2, 1, 0, 0, 0, 0, 13, 0])"
   ]
  },
  {
   "cell_type": "code",
   "execution_count": 4,
   "id": "e81501d8",
   "metadata": {},
   "outputs": [],
   "source": [
    "#Fonctions utiles\n",
    "Sigmoid = lambda x: 1/(1+np.exp(-x))"
   ]
  },
  {
   "cell_type": "code",
   "execution_count": 5,
   "id": "ca620d19",
   "metadata": {},
   "outputs": [
    {
     "data": {
      "text/plain": [
       "<matplotlib.collections.PathCollection at 0x135995196a0>"
      ]
     },
     "execution_count": 5,
     "metadata": {},
     "output_type": "execute_result"
    },
    {
     "data": {
      "image/png": "[encoded data removed]",
      "text/plain": [
       "<Figure size 432x288 with 1 Axes>"
      ]
     },
     "metadata": {
      "needs_background": "light"
     },
     "output_type": "display_data"
    }
   ],
   "source": [
    "n = 11000\n",
    "dim_param = 2\n",
    "t_chauffe = 1001\n",
    "\n",
    "#Lois à prioris\n",
    "prior_alpha_sd = 1e4\n",
    "prior_delta_sd = 1e4\n",
    "\n",
    "#Marches aléatoires\n",
    "alpha_MH_sd = 0.4\n",
    "delta_MH_sd = 1.2\n",
    "\n",
    "#On sépare les données en y=0/y<>0\n",
    "X_0 = X[Y == 0]\n",
    "X_1 = X[Y != 0]\n",
    "Y_0 = Y[Y == 0]\n",
    "Y_1 = Y[Y != 0]\n",
    "T_0 = T[Y == 0]\n",
    "T_1 = T[Y != 0]\n",
    "\n",
    "#Création de theta = [alpha, delta]\n",
    "param_0 = [0.0 for k in range(dim_param)]\n",
    "param = np.array([param_0]*(n+1))\n",
    "\n",
    "#Mise en route\n",
    "for t in range(1,n+1):\n",
    "    param[t] = param[t-1]\n",
    "    \n",
    "    #Propositions \n",
    "    Alpha = param[t][0]\n",
    "    Alpha_star = rnd.normal(loc=Alpha, scale=alpha_MH_sd)\n",
    "    Delta = param[t][1]\n",
    "    Delta_star = rnd.normal(loc=Delta, scale=1.2)\n",
    "    \n",
    "    #Remise à l'échelle\n",
    "    P = Sigmoid(Alpha)\n",
    "    P_star = Sigmoid(Alpha_star)\n",
    "    Theta = Sigmoid(Delta)\n",
    "    Theta_star = Sigmoid(Delta_star)\n",
    "    \n",
    "    #Alpha\n",
    "    top = (np.log(Theta + (1-Theta)*(1-P_star)**T_0)).sum() + (Y_1*np.log(P_star)+X_1*np.log(1-P_star)).sum() - Alpha_star**2/(2*prior_alpha_sd)\n",
    "    bottom = (np.log(Theta + (1-Theta)*(1-P)**T_0)).sum() + (Y_1*np.log(P)+X_1*np.log(1-P)).sum() - Alpha**2/(2*prior_alpha_sd)\n",
    "    proba_accep = min(1,np.exp(top-bottom))\n",
    "    U = rnd.uniform(low=0,high=1)\n",
    "    if U<proba_accep:\n",
    "        param[t][0] = Alpha_star\n",
    "        \n",
    "    #Delta\n",
    "    top = (np.log(Theta_star + (1-Theta_star)*(1-P)**T_0)).sum() + len(X_1)*np.log(1-Theta_star) - Delta_star**2/(2*prior_delta_sd)\n",
    "    bottom = (np.log(Theta + (1-Theta)*(1-P)**T_0)).sum() + len(X_1)*np.log(1-Theta) - Delta**2/(2*prior_delta_sd)\n",
    "    proba_accep = min(1,np.exp(top-bottom))\n",
    "    U = rnd.uniform(low=0,high=1)\n",
    "    if U<proba_accep:\n",
    "        param[t][1] = Delta_star\n",
    "    \n",
    "plt.scatter(np.exp(param[:,0]),Sigmoid(param[:,1]))"
   ]
  },
  {
   "cell_type": "code",
   "execution_count": 30,
   "id": "a821b4af",
   "metadata": {},
   "outputs": [
    {
     "name": "stdout",
     "output_type": "stream",
     "text": [
      "Résultats obtenus avec un temps de chauffe de 1001, et une chaîne restante de 11000 éléments.\n",
      "\n",
      "                   Alpha      Beta     Delta     Theta         P\n",
      "Moyenne        -0.472340  0.646763  0.320809  0.572809  0.386005\n",
      "Ecart Type      0.270475  0.177654  0.633011  0.142560  0.063155\n",
      "Quantile 2.5%  -0.986240  0.372977 -0.923297  0.284287  0.271655\n",
      "Mediane        -0.472174  0.623645  0.318864  0.579047  0.384102\n",
      "Quantile 97.5%  0.058630  1.060382  1.571022  0.827929  0.514653\n",
      "\n",
      " \n",
      " Résultats donnés dans l'énoncé.\n",
      "\n",
      "                 Alpha    Beta   Delta   Theta\n",
      "Moyenne        -0.4809  0.6427  0.3144  0.5717\n",
      "Ecart Type      0.2795  0.1812  0.6177  0.1391\n",
      "Quantile 2.5%  -1.0440  0.3521 -0.8919  0.2907\n",
      "Mediane        -0.4767  0.6208  0.3124  0.5775\n",
      "Quantile 97.5%  0.0652  1.0670  1.5530  0.8253\n"
     ]
    }
   ],
   "source": [
    "\n",
    "#Une fois Alpha et Delta créés, on les transforme pour obtenir Beta et Theta/P\n",
    "Alpha = param[t_chauffe:,0]\n",
    "Delta = param[t_chauffe:,1]\n",
    "Beta = np.exp(param[t_chauffe:,0])\n",
    "Theta = Sigmoid(param[t_chauffe:,1])\n",
    "P = Sigmoid(param[t_chauffe:,0])\n",
    "\n",
    "import pandas as pd\n",
    "#On met en forme les résultats\n",
    "titres_col = ['Moyenne', 'Ecart Type', 'Quantile 2.5%', 'Mediane', 'Quantile 97.5%']\n",
    "titres_lig = ['Alpha', 'Beta', 'Delta', 'Theta', 'P']\n",
    "Moyennes = [Alpha.mean(), Beta.mean(), Delta.mean(), Theta.mean(), P.mean()]\n",
    "Ecarts = [Alpha.std(), Beta.std(), Delta.std(), Theta.std(), P.std()]\n",
    "Quantile_1 = [np.quantile(Alpha,0.025), np.quantile(Beta,0.025), np.quantile(Delta,0.025), np.quantile(Theta,0.025), np.quantile(P,0.025)]\n",
    "Mediane = [np.median(Alpha), np.median(Beta), np.median(Delta), np.median(Theta), np.median(P)]\n",
    "Quantile_2 = [np.quantile(Alpha,0.975), np.quantile(Beta,0.975), np.quantile(Delta,0.975), np.quantile(Theta,0.975), np.quantile(P,0.975)]\n",
    "Matrice_val = [Moyennes, Ecarts, Quantile_1, Mediane, Quantile_2]\n",
    "\n",
    "Results = pd.DataFrame(Matrice_val, titres_col, titres_lig)\n",
    "print(f'Résultats obtenus avec un temps de chauffe de {t_chauffe}, et une chaîne restante de {n} éléments.\\n')\n",
    "print(Results)\n",
    "\n",
    "#A comparer avec les resultats donnés dans le sujet\n",
    "titres_lig_2 = ['Alpha', 'Beta', 'Delta', 'Theta']\n",
    "Matrice_val = [[-0.4809, 0.6427, 0.3144, 0.5717], \n",
    "              [0.2795, 0.1812, 0.6177, 0.1391],\n",
    "              [-1.044, 0.3521, -0.8919, 0.2907], \n",
    "              [-0.4767, 0.6208, 0.3124, 0.5775], \n",
    "              [0.0652, 1.067, 1.553, 0.8253]]\n",
    "\n",
    "Results_2 = pd.DataFrame(Matrice_val, titres_col, titres_lig_2)\n",
    "print(f'\\n \\n Résultats donnés dans l\\'énoncé.\\n')\n",
    "print(Results_2)"
   ]
  },
  {
   "cell_type": "code",
   "execution_count": null,
   "id": "633ad824",
   "metadata": {},
   "outputs": [],
   "source": [
    "plt.plot(Alpha)"
   ]
  },
  {
   "cell_type": "code",
   "execution_count": null,
   "id": "3fd265a2",
   "metadata": {},
   "outputs": [],
   "source": [
    "plt.plot(Delta)"
   ]
  },
  {
   "cell_type": "code",
   "execution_count": null,
   "id": "60867a41",
   "metadata": {},
   "outputs": [],
   "source": []
  }
 ],
 "metadata": {
  "kernelspec": {
   "display_name": "Python 3",
   "language": "python",
   "name": "python3"
  },
  "language_info": {
   "codemirror_mode": {
    "name": "ipython",
    "version": 3
   },
   "file_extension": ".py",
   "mimetype": "text/x-python",
   "name": "python",
   "nbconvert_exporter": "python",
   "pygments_lexer": "ipython3",
   "version": "3.8.8"
  }
 },
 "nbformat": 4,
 "nbformat_minor": 5
}
