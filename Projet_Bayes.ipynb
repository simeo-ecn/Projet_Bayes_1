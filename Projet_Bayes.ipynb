{
 "cells": [
  {
   "cell_type": "markdown",
   "id": "f259c72c",
   "metadata": {},
   "source": [
    "PERRET / MORI / DUPONT / POTIRON\n",
    "# Projet Bayes: "
   ]
  },
  {
   "cell_type": "code",
   "execution_count": 2,
   "id": "1e4a5717",
   "metadata": {},
   "outputs": [],
   "source": [
    "#Bibliothèques\n",
    "import numpy as np\n",
    "import numpy.random as rnd\n",
    "import scipy as sp"
   ]
  },
  {
   "cell_type": "code",
   "execution_count": 3,
   "id": "7d944a7d",
   "metadata": {},
   "outputs": [],
   "source": [
    "#Import des données\n",
    "N = 12\n",
    "t = np.array([11, 11, 17, 22, 9, 6, 5, 14, 9, 7, 22, 51])\n",
    "x = np.array([6, 9, 17, 22, 7, 5, 5, 14, 9, 7, 9, 51])\n",
    "y = np.array([5, 2, 0, 0, 2, 1, 0, 0, 0, 0, 13, 0])"
   ]
  },
  {
   "cell_type": "code",
   "execution_count": null,
   "id": "4ed22434",
   "metadata": {},
   "outputs": [],
   "source": [
    "#Code model R -> Python\n",
    "def model():\n",
    "    for i in range(1, N):\n",
    "        y[i] ~ dbin(P[state1[i]], t[i])\n",
    "        state[i] ~ dbern(theta)\n",
    "        state1[i] <- state[i] + 1\n",
    "        t[i] <- x[i] + y[i]\n",
    "        prop[i] <- P[state1[i]]\n",
    "    P[1] <- p\n",
    "    P[2] <- 0\n",
    "    logit(p) <- alpha\n",
    "    alpha ~ dnorm(0,1.0E-4)\n",
    "    beta <- exp(alpha)\n",
    "    logit(theta) <- delta\n",
    "    delta ~ dnorm(0, 1.0E-4)\n"
   ]
  }
 ],
 "metadata": {
  "kernelspec": {
   "display_name": "Python 3",
   "language": "python",
   "name": "python3"
  },
  "language_info": {
   "codemirror_mode": {
    "name": "ipython",
    "version": 3
   },
   "file_extension": ".py",
   "mimetype": "text/x-python",
   "name": "python",
   "nbconvert_exporter": "python",
   "pygments_lexer": "ipython3",
   "version": "3.8.8"
  }
 },
 "nbformat": 4,
 "nbformat_minor": 5
}
