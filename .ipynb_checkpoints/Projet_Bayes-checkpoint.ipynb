{
 "cells": [
  {
   "cell_type": "markdown",
   "id": "6be71c91",
   "metadata": {},
   "source": [
    "PERRET / MORI / DUPONT / POTIRON\n",
    "# Projet Bayes: "
   ]
  },
  {
   "cell_type": "code",
   "execution_count": 2,
   "id": "4ffebfe8",
   "metadata": {},
   "outputs": [],
   "source": [
    "#Bibliothèques\n",
    "import numpy as np\n",
    "import numpy.random as rnd\n",
    "import scipy as sp\n",
    "import matplotlib.pyplot as plt"
   ]
  },
  {
   "cell_type": "code",
   "execution_count": 3,
   "id": "d1e8cc91",
   "metadata": {},
   "outputs": [],
   "source": [
    "#Import des données\n",
    "N = 12\n",
    "T = np.array([11, 11, 17, 22, 9, 6, 5, 14, 9, 7, 22, 51])\n",
    "X = np.array([6, 9, 17, 22, 7, 5, 5, 14, 9, 7, 9, 51])\n",
    "Y = np.array([5, 2, 0, 0, 2, 1, 0, 0, 0, 0, 13, 0])"
   ]
  },
  {
   "cell_type": "code",
   "execution_count": 4,
   "id": "e81501d8",
   "metadata": {},
   "outputs": [],
   "source": [
    "#Fonctions utiles\n",
    "Sigmoid = lambda x: 1/(1+np.exp(-x))"
   ]
  },
  {
   "cell_type": "code",
   "execution_count": 9,
   "id": "ca620d19",
   "metadata": {},
   "outputs": [
    {
     "name": "stderr",
     "output_type": "stream",
     "text": [
      "<ipython-input-9-01f816db006b>:41: RuntimeWarning: divide by zero encountered in log\n",
      "  top = (np.log(Theta_star + (1-Theta_star)*(1-P)**T_0)).sum() + len(X_1)*np.log(1-Theta_star) - Delta_star**2/(2*1e4)\n",
      "<ipython-input-9-01f816db006b>:33: RuntimeWarning: divide by zero encountered in log\n",
      "  top = (np.log(Theta + (1-Theta)*(1-P_star)**T_0)).sum() + (Y_1*np.log(P_star)+X_1*np.log(1-P_star)).sum() - Alpha_star**2/(2*1e4)\n"
     ]
    },
    {
     "name": "stdout",
     "output_type": "stream",
     "text": [
      "Alpha: mean=-0.43524118474956075, sd=0.3097011379034131, start=1001, sample=10000\n",
      "Beta: mean=0.6790937894663526, sd=0.2136901563314894, start=1001, sample=10000\n",
      "Delta: mean=0.3819473723434861, sd=0.4953144988015239, start=1001, sample=10000\n",
      "Theta: mean=0.5886910128368443, sd=0.10966762000721399, start=1001, sample=10000\n",
      "P: mean=0.39518794458219253, sd=0.0732564698239653, start=1001, sample=10000\n"
     ]
    },
    {
     "data": {
      "image/png": "[encoded data removed]",
      "text/plain": [
       "<Figure size 432x288 with 1 Axes>"
      ]
     },
     "metadata": {
      "needs_background": "light"
     },
     "output_type": "display_data"
    }
   ],
   "source": [
    "n = 11000\n",
    "dim_param = 2\n",
    "\n",
    "#On sépare les données en y=0/y<>0\n",
    "X_0 = X[Y == 0]\n",
    "X_1 = X[Y != 0]\n",
    "Y_0 = Y[Y == 0]\n",
    "Y_1 = Y[Y != 0]\n",
    "T_0 = T[Y == 0]\n",
    "T_1 = T[Y != 0]\n",
    "\n",
    "#Création de theta = [alpha, delta]\n",
    "param_0 = [0.0 for k in range(dim_param)]\n",
    "param = np.array([param_0]*(n+1))\n",
    "\n",
    "#Mise en route\n",
    "for t in range(1,n+1):\n",
    "    param[t] = param[t-1]\n",
    "    \n",
    "    #Propositions \n",
    "    Alpha = param[t][0]\n",
    "    Alpha_star = rnd.normal(loc=Alpha, scale=100)\n",
    "    Delta = param[t][1]\n",
    "    Delta_star = rnd.normal(loc=Delta, scale=100)\n",
    "    \n",
    "    #Remise à l'échelle\n",
    "    P = Sigmoid(Alpha)\n",
    "    P_star = Sigmoid(Alpha_star)\n",
    "    Theta = Sigmoid(Delta)\n",
    "    Theta_star = Sigmoid(Delta_star)\n",
    "    \n",
    "    #Alpha\n",
    "    top = (np.log(Theta + (1-Theta)*(1-P_star)**T_0)).sum() + (Y_1*np.log(P_star)+X_1*np.log(1-P_star)).sum() - Alpha_star**2/(2*1e4)\n",
    "    bottom = (np.log(Theta + (1-Theta)*(1-P)**T_0)).sum() + (Y_1*np.log(P)+X_1*np.log(1-P)).sum() - Alpha**2/(2*1e4)\n",
    "    proba_accep = min(1,np.exp(top-bottom))\n",
    "    U = rnd.uniform(low=0,high=1)\n",
    "    if U<proba_accep:\n",
    "        param[t][0] = Alpha_star\n",
    "        \n",
    "    #Delta\n",
    "    top = (np.log(Theta_star + (1-Theta_star)*(1-P)**T_0)).sum() + len(X_1)*np.log(1-Theta_star) - Delta_star**2/(2*1e4)\n",
    "    bottom = (np.log(Theta + (1-Theta)*(1-P)**T_0)).sum() + len(X_1)*np.log(1-Theta) - Delta**2/(2*1e4)\n",
    "    proba_accep = min(1,np.exp(top-bottom))\n",
    "    U = rnd.uniform(low=0,high=1)\n",
    "    if U<proba_accep:\n",
    "        param[t][1] = Delta_star\n",
    "    \n",
    "plt.scatter(np.exp(param[:,0]),Sigmoid(param[:,1]))\n",
    "\n",
    "Alpha = param[1001:,0]\n",
    "Delta = param[1001:,1]\n",
    "Beta = np.exp(param[1001:,0])\n",
    "Theta = Sigmoid(param[1001:,1])\n",
    "P = Sigmoid(param[1001:,0])\n",
    "\n",
    "print(f\"Alpha: mean={Alpha.mean()}, sd={Alpha.std()}, start=1001, sample={len(Alpha)}\")\n",
    "print(f\"Beta: mean={Beta.mean()}, sd={Beta.std()}, start=1001, sample={len(Beta)}\")\n",
    "print(f\"Delta: mean={Delta.mean()}, sd={Delta.std()}, start=1001, sample={len(Delta)}\")\n",
    "print(f\"Theta: mean={Theta.mean()}, sd={Theta.std()}, start=1001, sample={len(Theta)}\")\n",
    "print(f\"P: mean={P.mean()}, sd={P.std()}, start=1001, sample={len(P)}\")\n"
   ]
  },
  {
   "cell_type": "code",
   "execution_count": null,
   "id": "633ad824",
   "metadata": {},
   "outputs": [],
   "source": []
  },
  {
   "cell_type": "code",
   "execution_count": null,
   "id": "3fd265a2",
   "metadata": {},
   "outputs": [],
   "source": []
  }
 ],
 "metadata": {
  "kernelspec": {
   "display_name": "Python 3",
   "language": "python",
   "name": "python3"
  },
  "language_info": {
   "codemirror_mode": {
    "name": "ipython",
    "version": 3
   },
   "file_extension": ".py",
   "mimetype": "text/x-python",
   "name": "python",
   "nbconvert_exporter": "python",
   "pygments_lexer": "ipython3",
   "version": "3.8.8"
  }
 },
 "nbformat": 4,
 "nbformat_minor": 5
}
