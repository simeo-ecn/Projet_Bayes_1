{
 "cells": [
  {
   "cell_type": "markdown",
   "id": "6be71c91",
   "metadata": {},
   "source": [
    "PERRET / MORI / DUPONT / POTIRON\n",
    "# Projet Bayes: "
   ]
  },
  {
   "cell_type": "code",
   "execution_count": 1,
   "id": "4ffebfe8",
   "metadata": {},
   "outputs": [],
   "source": [
    "#Bibliothèques\n",
    "import numpy as np\n",
    "import numpy.random as rnd\n",
    "import scipy as sp\n",
    "import matplotlib.pyplot as plt"
   ]
  },
  {
   "cell_type": "code",
   "execution_count": 2,
   "id": "d1e8cc91",
   "metadata": {},
   "outputs": [],
   "source": [
    "#Import des données\n",
    "N = 12\n",
    "T = np.array([11, 11, 17, 22, 9, 6, 5, 14, 9, 7, 22, 51])\n",
    "X = np.array([6, 9, 17, 22, 7, 5, 5, 14, 9, 7, 9, 51])\n",
    "Y = np.array([5, 2, 0, 0, 2, 1, 0, 0, 0, 0, 13, 0])"
   ]
  },
  {
   "cell_type": "code",
   "execution_count": 3,
   "id": "e81501d8",
   "metadata": {},
   "outputs": [],
   "source": [
    "#Fonctions utiles\n",
    "Sigmoid = lambda x: 1/(1+np.exp(-x))"
   ]
  },
  {
   "cell_type": "code",
   "execution_count": 19,
   "id": "ca620d19",
   "metadata": {},
   "outputs": [
    {
     "name": "stderr",
     "output_type": "stream",
     "text": [
      "C:\\Users\\grego\\AppData\\Local\\Temp/ipykernel_27292/219838786.py:33: RuntimeWarning: divide by zero encountered in log\n",
      "  top = (np.log(Theta + (1-Theta)*(1-P_star)**T_0)).sum() + (Y_1*np.log(P_star)+X_1*np.log(1-P_star)).sum() - Alpha_star**2/(2*1e4)\n",
      "C:\\Users\\grego\\AppData\\Local\\Temp/ipykernel_27292/219838786.py:41: RuntimeWarning: divide by zero encountered in log\n",
      "  top = (np.log(Theta_star + (1-Theta_star)*(1-P)**T_0)).sum() + len(X_1)*np.log(1-Theta_star) - Delta_star**2/(2*1e4)\n"
     ]
    },
    {
     "name": "stdout",
     "output_type": "stream",
     "text": [
      "Alpha: mean=-0.5867786779208307, sd=0.3386205479382299, median =-0.6015905570064062, start=1001, sample=10000\n",
      "Beta: mean=0.5911731805501785, sd=0.2273736827332825, median =0.5479394137446085, start=1001, sample=10000\n",
      "Delta: mean=0.2794643287600521, sd=0.6214925845328769, median =0.15185920693429805, start=1001, sample=10000\n",
      "Theta: mean=0.5617093385127508, sd=0.138492560220494, median =0.5378920100457334, start=1001, sample=10000\n",
      "P: mean=0.3606300874272417, sd=0.07777606847225986, median =0.35397988375985107, start=1001, sample=10000\n"
     ]
    },
    {
     "data": {
      "image/png": "[encoded data removed]",
      "text/plain": [
       "<Figure size 432x288 with 1 Axes>"
      ]
     },
     "metadata": {
      "needs_background": "light"
     },
     "output_type": "display_data"
    }
   ],
   "source": [
    "n = 11000\n",
    "dim_param = 2\n",
    "\n",
    "#On sépare les données en y=0/y<>0\n",
    "X_0 = X[Y == 0]\n",
    "X_1 = X[Y != 0]\n",
    "Y_0 = Y[Y == 0]\n",
    "Y_1 = Y[Y != 0]\n",
    "T_0 = T[Y == 0]\n",
    "T_1 = T[Y != 0]\n",
    "\n",
    "#Création de theta = [alpha, delta]\n",
    "param_0 = [0.0 for k in range(dim_param)]\n",
    "param = np.array([param_0]*(n+1))\n",
    "\n",
    "#Mise en route\n",
    "for t in range(1,n+1):\n",
    "    param[t] = param[t-1]\n",
    "    \n",
    "    #Propositions \n",
    "    Alpha = param[t][0]\n",
    "    Alpha_star = rnd.normal(loc=Alpha, scale=10**2)\n",
    "    Delta = param[t][1]\n",
    "    Delta_star = rnd.normal(loc=Delta, scale=10**2)\n",
    "    \n",
    "    #Remise à l'échelle\n",
    "    P = Sigmoid(Alpha)\n",
    "    P_star = Sigmoid(Alpha_star)\n",
    "    Theta = Sigmoid(Delta)\n",
    "    Theta_star = Sigmoid(Delta_star)\n",
    "    \n",
    "    #Alpha\n",
    "    top = (np.log(Theta + (1-Theta)*(1-P_star)**T_0)).sum() + (Y_1*np.log(P_star)+X_1*np.log(1-P_star)).sum() - Alpha_star**2/(2*1e4)\n",
    "    bottom = (np.log(Theta + (1-Theta)*(1-P)**T_0)).sum() + (Y_1*np.log(P)+X_1*np.log(1-P)).sum() - Alpha**2/(2*1e4)\n",
    "    proba_accep = min(1,np.exp(top-bottom))\n",
    "    U = rnd.uniform(low=0,high=1)\n",
    "    if U<proba_accep:\n",
    "        param[t][0] = Alpha_star\n",
    "        \n",
    "    #Delta\n",
    "    top = (np.log(Theta_star + (1-Theta_star)*(1-P)**T_0)).sum() + len(X_1)*np.log(1-Theta_star) - Delta_star**2/(2*1e4)\n",
    "    bottom = (np.log(Theta + (1-Theta)*(1-P)**T_0)).sum() + len(X_1)*np.log(1-Theta) - Delta**2/(2*1e4)\n",
    "    proba_accep = min(1,np.exp(top-bottom))\n",
    "    U = rnd.uniform(low=0,high=1)\n",
    "    if U<proba_accep:\n",
    "        param[t][1] = Delta_star\n",
    "    \n",
    "plt.scatter(np.exp(param[:,0]),Sigmoid(param[:,1]))\n",
    "\n",
    "Alpha = param[1001:,0]\n",
    "Delta = param[1001:,1]\n",
    "Beta = np.exp(param[1001:,0])\n",
    "Theta = Sigmoid(param[1001:,1])\n",
    "P = Sigmoid(param[1001:,0])\n",
    "\n",
    "print(f\"Alpha: mean={Alpha.mean()}, sd={Alpha.std()}, median ={np.median(Alpha)}, start=1001, sample={len(Alpha)}\")\n",
    "print(f\"Beta: mean={Beta.mean()}, sd={Beta.std()}, median ={np.median(Beta)}, start=1001, sample={len(Beta)}\")\n",
    "print(f\"Delta: mean={Delta.mean()}, sd={Delta.std()}, median ={np.median(Delta)}, start=1001, sample={len(Delta)}\")\n",
    "print(f\"Theta: mean={Theta.mean()}, sd={Theta.std()}, median ={np.median(Theta)}, start=1001, sample={len(Theta)}\")\n",
    "print(f\"P: mean={P.mean()}, sd={P.std()}, median ={np.median(P)}, start=1001, sample={len(P)}\")\n"
   ]
  },
  {
   "cell_type": "code",
   "execution_count": 13,
   "id": "633ad824",
   "metadata": {},
   "outputs": [
    {
     "data": {
      "text/plain": [
       "[<matplotlib.lines.Line2D at 0x2607466e7f0>]"
      ]
     },
     "execution_count": 13,
     "metadata": {},
     "output_type": "execute_result"
    },
    {
     "data": {
      "image/png": "[encoded data removed]",
      "text/plain": [
       "<Figure size 432x288 with 1 Axes>"
      ]
     },
     "metadata": {
      "needs_background": "light"
     },
     "output_type": "display_data"
    }
   ],
   "source": [
    "plt.plot(Alpha)"
   ]
  },
  {
   "cell_type": "code",
   "execution_count": 15,
   "id": "3fd265a2",
   "metadata": {},
   "outputs": [
    {
     "data": {
      "text/plain": [
       "[<matplotlib.lines.Line2D at 0x260757380d0>]"
      ]
     },
     "execution_count": 15,
     "metadata": {},
     "output_type": "execute_result"
    },
    {
     "data": {
      "image/png": "[encoded data removed]",
      "text/plain": [
       "<Figure size 432x288 with 1 Axes>"
      ]
     },
     "metadata": {
      "needs_background": "light"
     },
     "output_type": "display_data"
    }
   ],
   "source": [
    "plt.plot(Delta)"
   ]
  },
  {
   "cell_type": "code",
   "execution_count": null,
   "id": "9ed41821",
   "metadata": {},
   "outputs": [],
   "source": []
  }
 ],
 "metadata": {
  "kernelspec": {
   "display_name": "Python 3 (ipykernel)",
   "language": "python",
   "name": "python3"
  },
  "language_info": {
   "codemirror_mode": {
    "name": "ipython",
    "version": 3
   },
   "file_extension": ".py",
   "mimetype": "text/x-python",
   "name": "python",
   "nbconvert_exporter": "python",
   "pygments_lexer": "ipython3",
   "version": "3.9.7"
  }
 },
 "nbformat": 4,
 "nbformat_minor": 5
}
